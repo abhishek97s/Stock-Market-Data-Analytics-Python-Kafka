{
 "cells": [
  {
   "cell_type": "code",
   "execution_count": null,
   "id": "640f605d-9c94-4647-b091-3f9fb8251926",
   "metadata": {},
   "outputs": [],
   "source": [
    "pip install s3fs"
   ]
  },
  {
   "cell_type": "code",
   "execution_count": null,
   "id": "0ff6834a-40a1-470f-baf3-7353c83c17a0",
   "metadata": {},
   "outputs": [],
   "source": [
    "from kafka import KafkaConsumer\n",
    "from json import dumps, loads\n",
    "import json\n",
    "from s3fs import S3FileSystem\n",
    "import pandas as pd\n",
    "import os"
   ]
  },
  {
   "cell_type": "code",
   "execution_count": 31,
   "id": "1ee08577-9028-482b-92df-1292cd7d6026",
   "metadata": {},
   "outputs": [],
   "source": [
    "consumer = KafkaConsumer(\n",
    "    'demo_testing2',\n",
    "    bootstrap_servers = ['54.82.101.96:9092'],\n",
    "    value_deserializer = lambda x: \n",
    "    loads(x.decode('utf-8')))"
   ]
  },
  {
   "cell_type": "code",
   "execution_count": null,
   "id": "d95dd844-635a-43ca-8a8c-324ee4a42db1",
   "metadata": {},
   "outputs": [],
   "source": [
    "s3 = S3FileSystem()\n",
    "\n",
    "def save_to_s3(count, i):\n",
    "    with s3.open(\"s3://kafka-stock-market-analysis-data-abhishek/stock_market_{}.json\".format(count), 'w') as file:\n",
    "        json.dump(i.value, file)"
   ]
  },
  {
   "cell_type": "code",
   "execution_count": null,
   "id": "b11ce7db-acd2-414c-9232-408a8670eb3a",
   "metadata": {},
   "outputs": [],
   "source": [
    "df = pd.DataFrame()\n",
    "\n",
    "for count, i in enumerate(consumer):\n",
    "    include_headers = not os.path.isfile('stock_streaming_data.csv')\n",
    "    record_received = pd.DataFrame([i.value])\n",
    "    df = df._append(record_received, ignore_index = True)\n",
    "    # df = pd.concat([df, record_received], ignore_index= True)\n",
    "\n",
    "    # saving json record to S3 bucket: \n",
    "    save_to_s3(count,i)\n",
    "\n",
    "    # saving to csv using batch of 10 records\n",
    "    if len(df) >= 10:\n",
    "        print(df.head())\n",
    "        df.to_csv('stock_streaming_data.csv', mode = 'a', index= False, header = include_headers)\n",
    "        df = pd.DataFrame()"
   ]
  }
 ],
 "metadata": {
  "kernelspec": {
   "display_name": "Python 3 (ipykernel)",
   "language": "python",
   "name": "python3"
  },
  "language_info": {
   "codemirror_mode": {
    "name": "ipython",
    "version": 3
   },
   "file_extension": ".py",
   "mimetype": "text/x-python",
   "name": "python",
   "nbconvert_exporter": "python",
   "pygments_lexer": "ipython3",
   "version": "3.12.2"
  }
 },
 "nbformat": 4,
 "nbformat_minor": 5
}
